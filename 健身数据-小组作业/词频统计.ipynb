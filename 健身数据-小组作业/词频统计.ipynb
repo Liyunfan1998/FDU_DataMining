{
 "cells": [
  {
   "cell_type": "code",
   "execution_count": 82,
   "metadata": {},
   "outputs": [],
   "source": [
    "#!/usr/bin/python\n",
    "# -*- coding:utf-8 -*-\n",
    "import importlib,sys \n",
    "importlib.reload(sys)\n",
    "import codecs\n",
    "import pandas as pd\n",
    "import numpy as np\n",
    "import jieba\n",
    "import jieba.analyse\n",
    "\n",
    "rows = pd.read_csv(r'/Users/liyunfan/Desktop/数据挖掘/温馨提示.csv', encoding='GB18030',dtype=str, sep=',')"
   ]
  },
  {
   "cell_type": "code",
   "execution_count": 83,
   "metadata": {},
   "outputs": [],
   "source": [
    "stopwords = [line.strip() for line in codecs.open('/Users/liyunfan/Desktop/数据挖掘/stopwords.txt', 'r', 'utf-8').readlines()] \n",
    "#载入停用词\n",
    "jieba.analyse.set_stop_words('/Users/liyunfan/Desktop/数据挖掘/stopwords.txt')\n",
    "# 保存全局分词，用于词频统计\n",
    "segments = []"
   ]
  },
  {
   "cell_type": "code",
   "execution_count": 84,
   "metadata": {},
   "outputs": [
    {
     "name": "stderr",
     "output_type": "stream",
     "text": [
      "/usr/local/lib/python3.7/site-packages/ipykernel_launcher.py:1: FutureWarning: Method .as_matrix will be removed in a future version. Use .values instead.\n",
      "  \"\"\"Entry point for launching an IPython kernel.\n"
     ]
    }
   ],
   "source": [
    "rows=rows.as_matrix()[:,0]"
   ]
  },
  {
   "cell_type": "code",
   "execution_count": 85,
   "metadata": {},
   "outputs": [],
   "source": [
    "# 普通分词及停用词判断\n",
    "for row in rows:\n",
    "    content = row\n",
    "    #TextRank 关键词抽取，只获取固定词性\n",
    "    words = jieba.cut(content)\n",
    "    splitedStr = ''\n",
    "    for word in words:\n",
    "        #停用词判断，如果当前的关键词不在停用词库中才进行记录\n",
    "        if word not in stopwords:\n",
    "            # 记录全局分词\n",
    "            segments.append({'word':word, 'count':1})\n",
    "            splitedStr += word + ' '"
   ]
  },
  {
   "cell_type": "code",
   "execution_count": 86,
   "metadata": {},
   "outputs": [],
   "source": [
    "# 将结果数组转为df序列\n",
    "dfSg = pd.DataFrame(segments)\n",
    "\n",
    "# 词频统计\n",
    "dfWord = dfSg.groupby('word')['count'].sum()"
   ]
  },
  {
   "cell_type": "code",
   "execution_count": 88,
   "metadata": {},
   "outputs": [
    {
     "name": "stderr",
     "output_type": "stream",
     "text": [
      "/usr/local/lib/python3.7/site-packages/ipykernel_launcher.py:2: FutureWarning: The signature of `Series.to_csv` was aligned to that of `DataFrame.to_csv`, and argument 'header' will change its default value from False to True: please pass an explicit value to suppress this warning.\n",
      "  \n"
     ]
    }
   ],
   "source": [
    "#导出csv\n",
    "dfWord.to_csv('/Users/liyunfan/Desktop/数据挖掘/温馨提示keywords.csv',encoding='GB18030')"
   ]
  },
  {
   "cell_type": "code",
   "execution_count": null,
   "metadata": {},
   "outputs": [],
   "source": []
  }
 ],
 "metadata": {
  "kernelspec": {
   "display_name": "Python 3",
   "language": "python",
   "name": "python3"
  },
  "language_info": {
   "codemirror_mode": {
    "name": "ipython",
    "version": 3
   },
   "file_extension": ".py",
   "mimetype": "text/x-python",
   "name": "python",
   "nbconvert_exporter": "python",
   "pygments_lexer": "ipython3",
   "version": "3.7.2"
  }
 },
 "nbformat": 4,
 "nbformat_minor": 2
}
